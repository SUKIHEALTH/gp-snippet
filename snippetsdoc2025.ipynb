{
 "cells": [
  {
   "cell_type": "markdown",
   "id": "75e2ef28-594f-4c18-9d22-c6b8cd40ead2",
   "metadata": {},
   "source": [
    "# Snippets for GP app"
   ]
  },
  {
   "cell_type": "code",
   "execution_count": 20,
   "id": "70e39cd8-ec79-4e3e-9c26-5659d42d0861",
   "metadata": {},
   "outputs": [],
   "source": [
    "# === GP Snippet Creator with Integrated Search ===\n",
    "\n",
    "import os\n",
    "import json\n",
    "import time\n",
    "import subprocess\n",
    "import pyautogui\n",
    "import clipboard\n",
    "import gradio as gr\n",
    "from dotenv import load_dotenv\n",
    "from openai import OpenAI\n"
   ]
  },
  {
   "cell_type": "code",
   "execution_count": 21,
   "id": "af402289-d488-4bdb-80af-a4bbd70b425c",
   "metadata": {},
   "outputs": [],
   "source": [
    "\n",
    "## === load environment and initialize api === part3\n",
    "load_dotenv(override=True)\n",
    "openai_api_key = os.getenv(\"OPENAI_API_KEY\")\n",
    "openai = OpenAI()\n",
    "MODEL = \"gpt-4o\"\n"
   ]
  },
  {
   "cell_type": "code",
   "execution_count": 22,
   "id": "f5bfb0f2-629a-496b-a7a2-0f7cff08046e",
   "metadata": {},
   "outputs": [],
   "source": [
    "# === Data Storage === part 3\n",
    "DATA_FILE = \"snippets.json\"\n",
    "\n",
    "def load_snippets():\n",
    "    if os.path.exists(DATA_FILE):\n",
    "        with open(DATA_FILE, \"r\", encoding=\"utf-8\") as f:\n",
    "            return json.load(f)\n",
    "    return []\n",
    "\n",
    "def save_snippets(snippets):\n",
    "    with open(DATA_FILE, \"w\", encoding=\"utf-8\") as f:\n",
    "        json.dump(snippets, f, indent=2)\n",
    "\n",
    "def add_snippet(label, icpc_code, language, content, shortcut):\n",
    "    snippets = load_snippets()\n",
    "    snippets.append({\n",
    "        \"label\": label.strip(),\n",
    "        \"icpc_code\": icpc_code.upper().strip(),\n",
    "        \"language\": language,\n",
    "        \"content\": content.strip(),\n",
    "        \"shortcut\": shortcut.strip().lower()\n",
    "    })\n",
    "    save_snippets(snippets)\n",
    "    return f\"✅ Snippet '{label}' saved.\"\n"
   ]
  },
  {
   "cell_type": "code",
   "execution_count": 23,
   "id": "102903e1-8d17-42ee-8d0a-49f3fc227c07",
   "metadata": {},
   "outputs": [],
   "source": [
    "# === Format & List === part 3\n",
    "def format_snippet(snippet):\n",
    "    return f\"{snippet.get('shortcut', '')} → {snippet.get('content', '')}\"\n",
    "\n",
    "def list_snippets():\n",
    "    return load_snippets()\n",
    "\n",
    "def update_list():\n",
    "    return [format_snippet(s) for s in load_snippets()]"
   ]
  },
  {
   "cell_type": "code",
   "execution_count": 24,
   "id": "de4c4696-aacc-4ea8-82a9-42842e6ca2a8",
   "metadata": {},
   "outputs": [],
   "source": [
    "## === export snippets to AHK file === part 3\n",
    "def export_snippets_to_ahk():\n",
    "    snippets = list_snippets()\n",
    "    lines = [\"#SingleInstance force\", \"; AutoHotKey Snippets for GP\"]\n",
    "    for s in snippets:\n",
    "        sc = s.get(\"shortcut\", \"\").strip()\n",
    "        ct = ' '.join(s.get(\"content\", \"\").split())\n",
    "        if sc and ct:\n",
    "            lines.append(f\"::{sc}::{ct}\")\n",
    "    with open(\"snippets.ahk\", \"w\", encoding=\"utf-8\") as f:\n",
    "        f.write(\"\\n\".join(lines))\n",
    "    return \"✅ Exported AHK snippets.\"\n",
    "\n",
    "def export_snippets_and_run():\n",
    "    export_snippets_to_ahk()\n",
    "    try:\n",
    "        subprocess.Popen([r\"C:\\\\Program Files\\\\AutoHotkey\\\\v1.1.37.02\\\\AutoHotkeyU64.exe\", \"snippets.ahk\"], shell=True)\n",
    "        return \"✅ AutoHotkey script launched.\"\n",
    "    except Exception as e:\n",
    "        return f\"❌ Failed to run AHK: {e}\"\n"
   ]
  },
  {
   "cell_type": "code",
   "execution_count": 25,
   "id": "bdbf83db-9dd8-4810-8a26-65def475641e",
   "metadata": {},
   "outputs": [],
   "source": [
    "# === Update AHK Popup === part 3\n",
    "def send_to_popup(ahk_text):\n",
    "    clipboard.copy(ahk_text)\n",
    "    time.sleep(0.2)\n",
    "    try:\n",
    "        window = pyautogui.getWindowsWithTitle(\"Snippet Popup\")[0]\n",
    "        window.activate()\n",
    "        time.sleep(0.2)\n",
    "        pyautogui.hotkey(\"ctrl\", \"a\")\n",
    "        pyautogui.hotkey(\"ctrl\", \"v\")\n",
    "    except IndexError:\n",
    "        print(\"❌ Could not find the AHK popup window titled 'Snippet Popup'.\")\n",
    "\n",
    "def export_snippets_for_popup(file_path=\"snippets_data.ahk\"):\n",
    "    snippets = load_snippets()\n",
    "    lines = []\n",
    "    for snip in snippets:\n",
    "        sc = snip.get(\"shortcut\", \"\").strip()\n",
    "        ct = snip.get(\"content\", \"\").strip()\n",
    "        if sc and ct:\n",
    "            lines.append(f\"{sc}::{ct}\")\n",
    "    with open(file_path, \"w\", encoding=\"utf-8\") as f:\n",
    "        f.write(\"\\n\".join(lines))\n"
   ]
  },
  {
   "cell_type": "code",
   "execution_count": 26,
   "id": "49ed8aa3-3aa2-4511-bef2-5380e3356aa9",
   "metadata": {},
   "outputs": [],
   "source": [
    "## === AI snippet generator === part 3\n",
    "def generate_snippet_with_ai(label, icpc_code, language):\n",
    "    prompt = f\"You are an experienced doctor with 20 years of medical knowledge. Create a short, concise SOAP Plan (P:) snippet to document a consultation for '{label}' (ICPC: {icpc_code}) in {language}. The snippet should be suitable for efficient note-taking in a medical record.\"\n",
    "    response = openai.chat.completions.create(\n",
    "        model=MODEL,\n",
    "        messages=[\n",
    "            {\"role\": \"system\", \"content\": \"You are a helpful medical assistant generating efficient SOAP Plan snippets for busy general practitioners.\"},\n",
    "            {\"role\": \"user\", \"content\": prompt}\n",
    "        ]\n",
    "    )\n",
    "    return response.choices[0].message.content.strip()"
   ]
  },
  {
   "cell_type": "code",
   "execution_count": 27,
   "id": "7391d190-a37d-4518-a982-0524821ac81d",
   "metadata": {},
   "outputs": [],
   "source": [
    "## === ai short snippet generator (for EHR) === part 3\n",
    "def generate_short_snippet(label, icpc_code, language):\n",
    "    prompt = f\"You are an experienced doctor with 20 years of medical knowledge. Write a *very short*, structured SOAP Plan (P:) in {language} for '{label}' (ICPC: {icpc_code}) suitable for directly pasting into an EHR. Avoid markdown and formatting.\"\n",
    "    response = openai.chat.completions.create(\n",
    "        model=MODEL,\n",
    "        messages=[\n",
    "            {\"role\": \"system\", \"content\": \"You write short SOAP notes suitable for EHR input, using plain text.\"},\n",
    "            {\"role\": \"user\", \"content\": prompt}\n",
    "        ]\n",
    "    )\n",
    "    return response.choices[0].message.content.strip()"
   ]
  },
  {
   "cell_type": "code",
   "execution_count": 28,
   "id": "7145d820-15f7-4fc7-b36f-0eada9e9a6e6",
   "metadata": {},
   "outputs": [
    {
     "name": "stdout",
     "output_type": "stream",
     "text": [
      "* Running on local URL:  http://127.0.0.1:7868\n",
      "* To create a public link, set `share=True` in `launch()`.\n"
     ]
    },
    {
     "data": {
      "text/html": [
       "<div><iframe src=\"http://127.0.0.1:7868/\" width=\"100%\" height=\"500\" allow=\"autoplay; camera; microphone; clipboard-read; clipboard-write;\" frameborder=\"0\" allowfullscreen></iframe></div>"
      ],
      "text/plain": [
       "<IPython.core.display.HTML object>"
      ]
     },
     "metadata": {},
     "output_type": "display_data"
    }
   ],
   "source": [
    "## === Gradio interface === part 3\n",
    "with gr.Blocks() as demo:\n",
    "    gr.Markdown(\"# 🧠 GP Snippet Creator with AI Support\")\n",
    "\n",
    "    with gr.Row():\n",
    "        label = gr.Textbox(label=\"Snippet Label\", placeholder=\"e.g. Cough\")\n",
    "        icpc = gr.Textbox(label=\"ICPC Code\", placeholder=\"e.g. R05\")\n",
    "        lang = gr.Radio([\"EN\", \"NL\"], label=\"Language\")\n",
    "\n",
    "    shortcut = gr.Textbox(label=\"Shortcut Trigger\", placeholder=\"e.g. ;cough\")\n",
    "    content = gr.Textbox(label=\"Snippet Content\", lines=6)\n",
    "\n",
    "    with gr.Row():\n",
    "        generate_btn = gr.Button(\"💡 Generate Snippet with AI\")\n",
    "        shorten_btn = gr.Button(\"✂️ Generate Short Version\")\n",
    "        add_btn = gr.Button(\"➕ Save Snippet\")\n",
    "\n",
    "    with gr.Row():\n",
    "        export_btn = gr.Button(\"📤 Export to .ahk\")\n",
    "        run_and_export_btn = gr.Button(\"🚀 Save & Run\")\n",
    "\n",
    "    status = gr.Textbox(label=\"Status\", interactive=False)\n",
    "    show_snippets = gr.Checkbox(label=\"Show Saved Snippets\", value=False)\n",
    "    search_query = gr.Textbox(label=\"Search Snippets\")\n",
    "    snippet_list = gr.List(label=\"Saved Snippets\", interactive=False, visible=False)\n",
    "\n",
    "    def handle_add(label, icpc_code, language, content, shortcut):\n",
    "        add_snippet(label, icpc_code, language, content, shortcut)\n",
    "        export_snippets_for_popup()\n",
    "        export_snippets_to_ahk()\n",
    "        export_snippets_and_run()\n",
    "        return \"✅ Snippet saved and popup updated!\", update_list()\n",
    "\n",
    "    def toggle_snippet_list(show):\n",
    "        return gr.update(visible=show)\n",
    "\n",
    "    def search_snippets(query):\n",
    "        snippets = list_snippets()\n",
    "        return [format_snippet(s) for s in snippets if query.lower() in s.get(\"label\", \"\").lower() or query.lower() in s.get(\"shortcut\", \"\").lower() or query.lower() in s.get(\"content\", \"\").lower()]\n",
    "\n",
    "    add_btn.click(fn=handle_add, inputs=[label, icpc, lang, content, shortcut], outputs=[status, snippet_list])\n",
    "    export_btn.click(fn=export_snippets_to_ahk, outputs=[status])\n",
    "    run_and_export_btn.click(fn=export_snippets_and_run, outputs=[status])\n",
    "    generate_btn.click(fn=generate_snippet_with_ai, inputs=[label, icpc, lang], outputs=content)\n",
    "    shorten_btn.click(fn=generate_short_snippet, inputs=[label, icpc, lang], outputs=content)\n",
    "    show_snippets.change(fn=toggle_snippet_list, inputs=show_snippets, outputs=snippet_list)\n",
    "    search_query.change(fn=search_snippets, inputs=search_query, outputs=snippet_list)\n",
    "\n",
    "if __name__ == \"__main__\":\n",
    "    demo.launch()"
   ]
  },
  {
   "cell_type": "code",
   "execution_count": null,
   "id": "de062604-2eeb-41c9-a3a9-391a6dd35e5c",
   "metadata": {},
   "outputs": [],
   "source": []
  }
 ],
 "metadata": {
  "kernelspec": {
   "display_name": "Python 3 (ipykernel)",
   "language": "python",
   "name": "python3"
  },
  "language_info": {
   "codemirror_mode": {
    "name": "ipython",
    "version": 3
   },
   "file_extension": ".py",
   "mimetype": "text/x-python",
   "name": "python",
   "nbconvert_exporter": "python",
   "pygments_lexer": "ipython3",
   "version": "3.11.12"
  }
 },
 "nbformat": 4,
 "nbformat_minor": 5
}
